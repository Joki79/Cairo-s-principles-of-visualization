{
 "cells": [
  {
   "cell_type": "code",
   "execution_count": null,
   "metadata": {},
   "outputs": [],
   "source": [
    "import pandas as pd\n",
    "import matplotlib as mpl\n",
    "import matplotlib.pyplot as plt\n",
    "import numpy as np\n",
    "\n",
    "%matplotlib notebook"
   ]
  },
  {
   "cell_type": "code",
   "execution_count": null,
   "metadata": {},
   "outputs": [],
   "source": [
    "denver_CO=pd.read_csv('storm_data_search_results Denver.csv',usecols=['BEGIN_DATE'])"
   ]
  },
  {
   "cell_type": "code",
   "execution_count": null,
   "metadata": {},
   "outputs": [],
   "source": [
    "collin_TX=pd.read_csv('storm_data_search_results Collin TX.csv',usecols=['BEGIN_DATE'])"
   ]
  },
  {
   "cell_type": "code",
   "execution_count": null,
   "metadata": {},
   "outputs": [],
   "source": [
    "#data download is limited to 500 entries, so Laramie county has to be done in 2 parts\n",
    "laramie1=pd.read_csv('storm_data_search_results laramie_till2012.csv',usecols=['BEGIN_DATE'])"
   ]
  },
  {
   "cell_type": "code",
   "execution_count": null,
   "metadata": {},
   "outputs": [],
   "source": [
    "laramie2=pd.read_csv('laramie_2013_2020.csv',usecols=['BEGIN_DATE'])"
   ]
  },
  {
   "cell_type": "code",
   "execution_count": null,
   "metadata": {},
   "outputs": [],
   "source": [
    "#appending dataframes for Laramie\n",
    "laramie_WY=laramie1.append(laramie2,ignore_index=True)"
   ]
  },
  {
   "cell_type": "code",
   "execution_count": null,
   "metadata": {},
   "outputs": [],
   "source": [
    "#checking the type of data\n",
    "print(denver_CO.info(),collin_TX.info(),laramie_WY.info())"
   ]
  },
  {
   "cell_type": "code",
   "execution_count": null,
   "metadata": {},
   "outputs": [],
   "source": [
    "#create new column 'YEAR' for all three dataframes\n",
    "all_frames=[denver_CO,collin_TX,laramie_WY]\n",
    "for frame in all_frames:\n",
    "    frame['YEAR']=pd.DatetimeIndex(frame['BEGIN_DATE']).year"
   ]
  },
  {
   "cell_type": "code",
   "execution_count": null,
   "metadata": {},
   "outputs": [],
   "source": [
    "#grouped data-cumulative yearly sum per square mile and cumulative yearly sum\n",
    "#Denver county area=155, Collin county area=886, Laramie county area=2688 according to Google\n",
    "denver_CO_yearly=denver_CO.groupby(\"YEAR\")['YEAR'].count()/155\n",
    "denver_CO_yearly=denver_CO_yearly.cumsum()\n",
    "collin_TX_yearly=collin_TX.groupby(\"YEAR\")['YEAR'].count()/886\n",
    "collin_TX_yearly=collin_TX_yearly.cumsum()\n",
    "laramie_WY_yearly=laramie_WY.groupby(\"YEAR\")['YEAR'].count()/2688\n",
    "laramie_WY_yearly=laramie_WY_yearly.cumsum()\n",
    "denver_CO_yearly1=denver_CO.groupby(\"YEAR\")['YEAR'].count().cumsum()\n",
    "collin_TX_yearly1=collin_TX.groupby(\"YEAR\")['YEAR'].count().cumsum()\n",
    "laramie_WY_yearly1=laramie_WY.groupby(\"YEAR\")['YEAR'].count().cumsum()"
   ]
  },
  {
   "cell_type": "code",
   "execution_count": null,
   "metadata": {},
   "outputs": [],
   "source": [
    "#plotting both datasets\n",
    "fig=plt.figure(figsize=(7.5,6))\n",
    "        \n",
    "ax=plt.subplot(2,1,1)\n",
    "\n",
    "ax.plot( laramie_WY_yearly1.index,laramie_WY_yearly1,\"--g\",collin_TX_yearly1.index,\n",
    "        collin_TX_yearly1,'--r',denver_CO_yearly1.index,denver_CO_yearly1,'--b')\n",
    "\n",
    "\n",
    "plt.title('Cumulative number of hailstorms by county (Jan,1990-Dec,2020)',size=10)\n",
    "#my Jupyter notebook uses \"xlabel' instead of \"s\" in plt.xlabel\n",
    "plt.xlabel(xlabel='Year',color='grey',size=10)\n",
    "plt.ylabel(ylabel='Cumulativ no.of hailstorms',color='grey',size=10)\n",
    "\n",
    "plt.xticks(color='grey',size=8)\n",
    "plt.yticks(color='grey',size=8)\n",
    "\n",
    "ax.spines['top'].set_visible(False)\n",
    "ax.spines['left'].set_visible(False)\n",
    "ax.spines['bottom'].set_visible(False)\n",
    "ax.spines['right'].set_visible(False)\n",
    "\n",
    "plt.legend([\"Laramie,WY\",\"Collin,TX\",\"Denver,CO\"],frameon=False,fontsize='small')\n",
    "\n",
    "ax.annotate(\"Total number=179\",size=7,color='blue',xy=(2020,179))\n",
    "ax.annotate(\"Total number=444\",size=7,color='red',xy=(2020,444))\n",
    "ax.annotate(\"Total number=841\",size=7,color='green',xy=(2020,841))\n",
    "\n",
    "\n",
    "ax=plt.subplot(2,1,2)\n",
    "\n",
    "plt.plot(denver_CO_yearly.index,denver_CO_yearly,'-b',collin_TX_yearly.index,collin_TX_yearly,'-r',\n",
    "         laramie_WY_yearly.index,laramie_WY_yearly,\"-g\")\n",
    "\n",
    "\n",
    "plt.title('Cumulative number of hailstorms per sq.mile by county (Jan,1990-Dec,2020)',size=10)\n",
    "#my Jupyter notebook uses \"xlabel' instead of \"s\" in plt.xlabel\n",
    "\n",
    "plt.xlabel(xlabel='Year',color='grey',size=10)\n",
    "plt.ylabel(ylabel='Cumulativ no.of hailstorms per sq.mile',color='grey',size=10)\n",
    "\n",
    "plt.xticks(color='grey',size=8)\n",
    "plt.yticks(color='grey',size=8)\n",
    "\n",
    "ax.spines['top'].set_visible(False)\n",
    "ax.spines['left'].set_visible(False)\n",
    "ax.spines['bottom'].set_visible(False)\n",
    "ax.spines['right'].set_visible(False)\n",
    "\n",
    "plt.legend([\"Denver,CO\",\"Collin,TX\",\"Laramie,WY\"],frameon=False,fontsize='small')\n",
    "\n",
    "ax.annotate(\"Total=1.15/sqmi\",size=7,color='blue',xy=(2020,179/155))\n",
    "ax.annotate(\"Toatl=0.5/sqmi\",size=7,color='red',xy=(2020,444/886))\n",
    "ax.annotate(\"Total=0.31/sqmi\",size=7,color='green',xy=(2020,841/2688))\n",
    "\n",
    "\n",
    "plt.tight_layout()\n",
    "\n",
    "plt.savefig('Line plots.png')\n",
    "plt.show()"
   ]
  },
  {
   "cell_type": "code",
   "execution_count": null,
   "metadata": {},
   "outputs": [],
   "source": []
  },
  {
   "cell_type": "code",
   "execution_count": null,
   "metadata": {},
   "outputs": [],
   "source": []
  }
 ],
 "metadata": {
  "kernelspec": {
   "display_name": "Python 3",
   "language": "python",
   "name": "python3"
  },
  "language_info": {
   "codemirror_mode": {
    "name": "ipython",
    "version": 3
   },
   "file_extension": ".py",
   "mimetype": "text/x-python",
   "name": "python",
   "nbconvert_exporter": "python",
   "pygments_lexer": "ipython3",
   "version": "3.7.7"
  }
 },
 "nbformat": 4,
 "nbformat_minor": 1
}
